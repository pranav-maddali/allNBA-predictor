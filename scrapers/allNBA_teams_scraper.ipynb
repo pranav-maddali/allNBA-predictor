{
 "cells": [
  {
   "cell_type": "code",
   "execution_count": 14,
   "metadata": {},
   "outputs": [],
   "source": [
    "import pandas as pd\n",
    "import numpy as np\n",
    "seasons = [str(year) for year in range(1991, 2020)]\n",
    "yearChange = {'1990–91' : '1991',\n",
    "              '1991–92' : '1992',\n",
    "              '1992–93' : '1993',\n",
    "              '1993–94' : '1994',\n",
    "              '1994–95' : '1995',\n",
    "              '1995–96' : '1996',\n",
    "              '1996–97' : '1997',\n",
    "              '1997–98' : '1998',\n",
    "              '1998–99' : '1999',\n",
    "              '1999–00' : '2000',\n",
    "              '2000–01' : '2001',\n",
    "              '2001–02' : '2002',\n",
    "              '2002–03' : '2003',\n",
    "              '2003–04' : '2004',\n",
    "              '2004–05' : '2005',\n",
    "              '2005–06' : '2006',\n",
    "              '2006–07' : '2007',\n",
    "              '2007–08' : '2008',\n",
    "              '2008–09' : '2009',\n",
    "              '2009–10' : '2010',\n",
    "              '2010–11' : '2011',\n",
    "              '2011–12' : '2012',\n",
    "              '2012–13' : '2013',\n",
    "              '2013–14' : '2014',\n",
    "              '2014–15' : '2015',\n",
    "              '2015–16' : '2016',\n",
    "              '2016–17' : '2017',\n",
    "              '2017–18' : '2018',\n",
    "              '2018–19' : '2019'}"
   ]
  },
  {
   "cell_type": "code",
   "execution_count": 20,
   "metadata": {},
   "outputs": [],
   "source": [
    "#create a function that would do all the pre-processing necessary to get our desired result of one table containing\n",
    "#the all-NBA teams from the year 1991 \n",
    "def getDF(frames):\n",
    "    #scraping this page returns 9 total dataframes, our table is the one in the 7th index\n",
    "    df = frames[7]\n",
    "    \n",
    "    #filter out recipients prior to the 1990-1991 season and after the 2018-2019 season\n",
    "    df = df[df['Season']['Season'] > '1990-91']\n",
    "    df = df[df['Season']['Season'] < '2019-20']\n",
    "    \n",
    "    #remove the multi-level column headers\n",
    "    temp = []\n",
    "    for column in df.columns:\n",
    "        temp.append(column[1])\n",
    "    df.columns = temp\n",
    "    \n",
    "    #reset the index\n",
    "    df.index = np.array(range(len(df)))\n",
    "    \n",
    "    #teams are not a concern for us\n",
    "    df = df.drop('Teams', axis=1)\n",
    "    \n",
    "    #rename the columns for clarity and specificity\n",
    "    df.columns = ['Season', 'First Team', 'Second Team', 'Third Team']\n",
    "    \n",
    "    #change the dataframe to strings, regex search the table and filter out the wikipedia annotations/footnotes/etc.\n",
    "    df = df.astype(str)\n",
    "    for column in df.columns[1:]:\n",
    "        #replace all non english alphabet characters except for slovenian characters\n",
    "        df[column] = df[column].str.replace('\\[.?\\]|\\(.?\\)|[^a-z A-Z|šđčćž|ŠĐČĆŽ]', '')\n",
    "        \n",
    "    #rename each season from the format eg: 1990-91 --> 1991\n",
    "    df = df.replace({'Season' : yearChange})\n",
    "        \n",
    "    #return dataframe\n",
    "    return df"
   ]
  },
  {
   "cell_type": "code",
   "execution_count": 21,
   "metadata": {},
   "outputs": [],
   "source": [
    "def createCSVs():\n",
    "    #using wikipedia to get all our data in one table through pandas\n",
    "    DFs = pd.read_html('https://en.wikipedia.org/wiki/All-NBA_Team')\n",
    "    \n",
    "    #save-path for all our CSVs\n",
    "    savePath = '/Users/pranav/nba_allNBA_predictor/all_nba_teams/'\n",
    "    \n",
    "    #run getDF on the frames to get our output and group the dataframe into seasons\n",
    "    teams = getDF(DFs)\n",
    "    yearly = teams.groupby(teams.Season)\n",
    "    \n",
    "    #for each season b/w 1991-2020, divide the dataframe into a smaller one without the season column and export it\n",
    "    for season in seasons:\n",
    "        temp = yearly.get_group(season)\n",
    "        temp = temp.drop('Season', axis=1)\n",
    "        temp.to_csv(savePath + season + '_allNBAteams.csv', index=False)"
   ]
  },
  {
   "cell_type": "code",
   "execution_count": 22,
   "metadata": {},
   "outputs": [],
   "source": [
    "createCSVs()"
   ]
  },
  {
   "cell_type": "code",
   "execution_count": null,
   "metadata": {},
   "outputs": [],
   "source": []
  }
 ],
 "metadata": {
  "kernelspec": {
   "display_name": "Python 3",
   "language": "python",
   "name": "python3"
  },
  "language_info": {
   "codemirror_mode": {
    "name": "ipython",
    "version": 3
   },
   "file_extension": ".py",
   "mimetype": "text/x-python",
   "name": "python",
   "nbconvert_exporter": "python",
   "pygments_lexer": "ipython3",
   "version": "3.7.6"
  }
 },
 "nbformat": 4,
 "nbformat_minor": 4
}
