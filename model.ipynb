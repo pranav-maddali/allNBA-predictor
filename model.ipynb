{
 "cells": [
  {
   "cell_type": "code",
   "execution_count": 33,
   "metadata": {},
   "outputs": [],
   "source": [
    "import pickle\n",
    "import numpy as np\n",
    "\n",
    "import keras\n",
    "from keras.models import Sequential\n",
    "from keras.layers import Dense\n",
    "from sklearn.metrics import accuracy_score\n",
    "\n",
    "from matplotlib import pyplot"
   ]
  },
  {
   "cell_type": "code",
   "execution_count": 34,
   "metadata": {},
   "outputs": [
    {
     "name": "stdout",
     "output_type": "stream",
     "text": [
      "Training Sizes: (10208, 28) and (10208,)\n",
      "Testing Sizes: (4375, 28) and (4375,)\n"
     ]
    }
   ],
   "source": [
    "with open('/Users/pranav/nba_allNBA_predictor/nn_train_data.pkl', 'rb') as f:\n",
    "    X_train, y_train = pickle.load(f, encoding='latin1')\n",
    "with open('/Users/pranav/nba_allNBA_predictor/nn_test_data.pkl', 'rb') as f:\n",
    "    X_test, y_test = pickle.load(f, encoding='latin1')\n",
    "\n",
    "print('Training Sizes:', X_train.shape,'and', y_train.shape)\n",
    "print('Testing Sizes:', X_test.shape, 'and', y_test.shape)"
   ]
  },
  {
   "cell_type": "code",
   "execution_count": 35,
   "metadata": {},
   "outputs": [
    {
     "name": "stdout",
     "output_type": "stream",
     "text": [
      "Model: \"sequential_4\"\n",
      "_________________________________________________________________\n",
      "Layer (type)                 Output Shape              Param #   \n",
      "=================================================================\n",
      "dense_15 (Dense)             (None, 24)                696       \n",
      "_________________________________________________________________\n",
      "dense_16 (Dense)             (None, 12)                300       \n",
      "_________________________________________________________________\n",
      "dense_17 (Dense)             (None, 4)                 52        \n",
      "_________________________________________________________________\n",
      "dense_18 (Dense)             (None, 1)                 5         \n",
      "=================================================================\n",
      "Total params: 1,053\n",
      "Trainable params: 1,053\n",
      "Non-trainable params: 0\n",
      "_________________________________________________________________\n"
     ]
    }
   ],
   "source": [
    "model = Sequential()\n",
    "\n",
    "model.add(Dense(24, input_dim=28, activation='relu'))\n",
    "\n",
    "model.add(Dense(12, activation='relu'))\n",
    "\n",
    "model.add(Dense(4, activation='relu'))\n",
    "\n",
    "model.add(Dense(1, activation='sigmoid'))\n",
    "\n",
    "model.summary()"
   ]
  },
  {
   "cell_type": "code",
   "execution_count": 36,
   "metadata": {},
   "outputs": [],
   "source": [
    "model.compile(loss='binary_crossentropy', optimizer='adam', metrics=['accuracy'])"
   ]
  },
  {
   "cell_type": "code",
   "execution_count": 37,
   "metadata": {},
   "outputs": [
    {
     "name": "stdout",
     "output_type": "stream",
     "text": [
      "Epoch 1/35\n",
      "10208/10208 [==============================] - 1s 141us/step - loss: 0.6113 - accuracy: 0.7579\n",
      "Epoch 2/35\n",
      "10208/10208 [==============================] - 0s 48us/step - loss: 0.1514 - accuracy: 0.9718\n",
      "Epoch 3/35\n",
      "10208/10208 [==============================] - 0s 43us/step - loss: 0.0631 - accuracy: 0.9806\n",
      "Epoch 4/35\n",
      "10208/10208 [==============================] - 0s 43us/step - loss: 0.0493 - accuracy: 0.9832\n",
      "Epoch 5/35\n",
      "10208/10208 [==============================] - 0s 41us/step - loss: 0.0441 - accuracy: 0.9843\n",
      "Epoch 6/35\n",
      "10208/10208 [==============================] - 0s 42us/step - loss: 0.0414 - accuracy: 0.9847\n",
      "Epoch 7/35\n",
      "10208/10208 [==============================] - 0s 45us/step - loss: 0.0390 - accuracy: 0.9851\n",
      "Epoch 8/35\n",
      "10208/10208 [==============================] - 0s 42us/step - loss: 0.0373 - accuracy: 0.9852\n",
      "Epoch 9/35\n",
      "10208/10208 [==============================] - 0s 43us/step - loss: 0.0354 - accuracy: 0.9871\n",
      "Epoch 10/35\n",
      "10208/10208 [==============================] - 0s 42us/step - loss: 0.0350 - accuracy: 0.9864\n",
      "Epoch 11/35\n",
      "10208/10208 [==============================] - 0s 44us/step - loss: 0.0344 - accuracy: 0.9861\n",
      "Epoch 12/35\n",
      "10208/10208 [==============================] - 0s 42us/step - loss: 0.0334 - accuracy: 0.9871\n",
      "Epoch 13/35\n",
      "10208/10208 [==============================] - 0s 44us/step - loss: 0.0327 - accuracy: 0.9877\n",
      "Epoch 14/35\n",
      "10208/10208 [==============================] - 0s 43us/step - loss: 0.0324 - accuracy: 0.9875\n",
      "Epoch 15/35\n",
      "10208/10208 [==============================] - 0s 43us/step - loss: 0.0314 - accuracy: 0.9879\n",
      "Epoch 16/35\n",
      "10208/10208 [==============================] - 0s 45us/step - loss: 0.0308 - accuracy: 0.9878\n",
      "Epoch 17/35\n",
      "10208/10208 [==============================] - 0s 42us/step - loss: 0.0310 - accuracy: 0.9882\n",
      "Epoch 18/35\n",
      "10208/10208 [==============================] - 0s 46us/step - loss: 0.0300 - accuracy: 0.9878\n",
      "Epoch 19/35\n",
      "10208/10208 [==============================] - 0s 44us/step - loss: 0.0299 - accuracy: 0.9878\n",
      "Epoch 20/35\n",
      "10208/10208 [==============================] - 0s 44us/step - loss: 0.0288 - accuracy: 0.9879\n",
      "Epoch 21/35\n",
      "10208/10208 [==============================] - 0s 44us/step - loss: 0.0279 - accuracy: 0.9887\n",
      "Epoch 22/35\n",
      "10208/10208 [==============================] - 0s 45us/step - loss: 0.0286 - accuracy: 0.9886\n",
      "Epoch 23/35\n",
      "10208/10208 [==============================] - 0s 42us/step - loss: 0.0271 - accuracy: 0.9892\n",
      "Epoch 24/35\n",
      "10208/10208 [==============================] - 1s 53us/step - loss: 0.0276 - accuracy: 0.9891\n",
      "Epoch 25/35\n",
      "10208/10208 [==============================] - 0s 48us/step - loss: 0.0269 - accuracy: 0.9886\n",
      "Epoch 26/35\n",
      "10208/10208 [==============================] - 0s 43us/step - loss: 0.0271 - accuracy: 0.9888\n",
      "Epoch 27/35\n",
      "10208/10208 [==============================] - 1s 55us/step - loss: 0.0261 - accuracy: 0.9904 0s - loss: 0.0254 - accuracy\n",
      "Epoch 28/35\n",
      "10208/10208 [==============================] - 0s 49us/step - loss: 0.0262 - accuracy: 0.9895\n",
      "Epoch 29/35\n",
      "10208/10208 [==============================] - 0s 43us/step - loss: 0.0257 - accuracy: 0.9890\n",
      "Epoch 30/35\n",
      "10208/10208 [==============================] - 1s 57us/step - loss: 0.0251 - accuracy: 0.9886\n",
      "Epoch 31/35\n",
      "10208/10208 [==============================] - 1s 56us/step - loss: 0.0253 - accuracy: 0.9893\n",
      "Epoch 32/35\n",
      "10208/10208 [==============================] - 1s 54us/step - loss: 0.0245 - accuracy: 0.9900\n",
      "Epoch 33/35\n",
      "10208/10208 [==============================] - 1s 53us/step - loss: 0.0248 - accuracy: 0.9894\n",
      "Epoch 34/35\n",
      "10208/10208 [==============================] - 1s 57us/step - loss: 0.0238 - accuracy: 0.9905\n",
      "Epoch 35/35\n",
      "10208/10208 [==============================] - 1s 76us/step - loss: 0.0241 - accuracy: 0.9900\n"
     ]
    }
   ],
   "source": [
    "history = model.fit(X_train, y_train, epochs=35, batch_size=64)"
   ]
  },
  {
   "cell_type": "code",
   "execution_count": 38,
   "metadata": {},
   "outputs": [
    {
     "name": "stdout",
     "output_type": "stream",
     "text": [
      "Accuracy is: 100.0\n"
     ]
    }
   ],
   "source": [
    "y_pred = model.predict(X_test)\n",
    "predictions = list()\n",
    "for i in range(len(y_pred)):\n",
    "    predictions.append(np.argmax(y_pred[i]))\n",
    "\n",
    "tests = list()\n",
    "for i in range(len(y_test)):\n",
    "    tests.append(np.argmax(y_test[i]))\n",
    "    \n",
    "accuracy = accuracy_score(predictions,tests)\n",
    "print('Accuracy is:', accuracy*100)"
   ]
  },
  {
   "cell_type": "code",
   "execution_count": 39,
   "metadata": {},
   "outputs": [
    {
     "name": "stdout",
     "output_type": "stream",
     "text": [
      "Train on 10208 samples, validate on 4375 samples\n",
      "Epoch 1/35\n",
      "10208/10208 [==============================] - 1s 66us/step - loss: 0.0251 - accuracy: 0.9903 - val_loss: 0.0350 - val_accuracy: 0.9870\n",
      "Epoch 2/35\n",
      "10208/10208 [==============================] - 1s 55us/step - loss: 0.0231 - accuracy: 0.9894 - val_loss: 0.0320 - val_accuracy: 0.9886\n",
      "Epoch 3/35\n",
      "10208/10208 [==============================] - 1s 51us/step - loss: 0.0233 - accuracy: 0.9895 - val_loss: 0.0327 - val_accuracy: 0.9883\n",
      "Epoch 4/35\n",
      "10208/10208 [==============================] - 1s 52us/step - loss: 0.0242 - accuracy: 0.9902 - val_loss: 0.0334 - val_accuracy: 0.9863\n",
      "Epoch 5/35\n",
      "10208/10208 [==============================] - 1s 55us/step - loss: 0.0226 - accuracy: 0.9913 - val_loss: 0.0335 - val_accuracy: 0.9874\n",
      "Epoch 6/35\n",
      "10208/10208 [==============================] - 0s 49us/step - loss: 0.0223 - accuracy: 0.9909 - val_loss: 0.0335 - val_accuracy: 0.9872\n",
      "Epoch 7/35\n",
      "10208/10208 [==============================] - 1s 50us/step - loss: 0.0219 - accuracy: 0.9908 - val_loss: 0.0323 - val_accuracy: 0.9865\n",
      "Epoch 8/35\n",
      "10208/10208 [==============================] - 1s 50us/step - loss: 0.0225 - accuracy: 0.9904 - val_loss: 0.0311 - val_accuracy: 0.9872\n",
      "Epoch 9/35\n",
      "10208/10208 [==============================] - 1s 52us/step - loss: 0.0209 - accuracy: 0.9913 - val_loss: 0.0381 - val_accuracy: 0.9861\n",
      "Epoch 10/35\n",
      "10208/10208 [==============================] - 1s 50us/step - loss: 0.0218 - accuracy: 0.9913 - val_loss: 0.0367 - val_accuracy: 0.9872\n",
      "Epoch 11/35\n",
      "10208/10208 [==============================] - 1s 53us/step - loss: 0.0210 - accuracy: 0.9914 - val_loss: 0.0333 - val_accuracy: 0.9861\n",
      "Epoch 12/35\n",
      "10208/10208 [==============================] - 1s 52us/step - loss: 0.0213 - accuracy: 0.9904 - val_loss: 0.0328 - val_accuracy: 0.9870\n",
      "Epoch 13/35\n",
      "10208/10208 [==============================] - 1s 50us/step - loss: 0.0207 - accuracy: 0.9908 - val_loss: 0.0344 - val_accuracy: 0.9865\n",
      "Epoch 14/35\n",
      "10208/10208 [==============================] - 1s 51us/step - loss: 0.0207 - accuracy: 0.9911 - val_loss: 0.0338 - val_accuracy: 0.9881\n",
      "Epoch 15/35\n",
      "10208/10208 [==============================] - 1s 50us/step - loss: 0.0217 - accuracy: 0.9913 - val_loss: 0.0336 - val_accuracy: 0.9881\n",
      "Epoch 16/35\n",
      "10208/10208 [==============================] - 1s 50us/step - loss: 0.0211 - accuracy: 0.9910 - val_loss: 0.0329 - val_accuracy: 0.9886\n",
      "Epoch 17/35\n",
      "10208/10208 [==============================] - 1s 50us/step - loss: 0.0201 - accuracy: 0.9925 - val_loss: 0.0353 - val_accuracy: 0.9867\n",
      "Epoch 18/35\n",
      "10208/10208 [==============================] - 1s 65us/step - loss: 0.0203 - accuracy: 0.9916 - val_loss: 0.0361 - val_accuracy: 0.9870\n",
      "Epoch 19/35\n",
      "10208/10208 [==============================] - 1s 52us/step - loss: 0.0233 - accuracy: 0.9903 - val_loss: 0.0351 - val_accuracy: 0.9863\n",
      "Epoch 20/35\n",
      "10208/10208 [==============================] - 1s 50us/step - loss: 0.0198 - accuracy: 0.9917 - val_loss: 0.0342 - val_accuracy: 0.9867\n",
      "Epoch 21/35\n",
      "10208/10208 [==============================] - 1s 50us/step - loss: 0.0190 - accuracy: 0.9912 - val_loss: 0.0340 - val_accuracy: 0.9872\n",
      "Epoch 22/35\n",
      "10208/10208 [==============================] - 1s 52us/step - loss: 0.0210 - accuracy: 0.9908 - val_loss: 0.0357 - val_accuracy: 0.9863\n",
      "Epoch 23/35\n",
      "10208/10208 [==============================] - 1s 51us/step - loss: 0.0187 - accuracy: 0.9923 - val_loss: 0.0351 - val_accuracy: 0.9877\n",
      "Epoch 24/35\n",
      "10208/10208 [==============================] - 1s 54us/step - loss: 0.0186 - accuracy: 0.9921 - val_loss: 0.0360 - val_accuracy: 0.9856\n",
      "Epoch 25/35\n",
      "10208/10208 [==============================] - 1s 54us/step - loss: 0.0210 - accuracy: 0.9912 - val_loss: 0.0364 - val_accuracy: 0.9858\n",
      "Epoch 26/35\n",
      "10208/10208 [==============================] - 1s 50us/step - loss: 0.0190 - accuracy: 0.9926 - val_loss: 0.0350 - val_accuracy: 0.9870\n",
      "Epoch 27/35\n",
      "10208/10208 [==============================] - 1s 52us/step - loss: 0.0181 - accuracy: 0.9928 - val_loss: 0.0362 - val_accuracy: 0.9863\n",
      "Epoch 28/35\n",
      "10208/10208 [==============================] - 1s 53us/step - loss: 0.0179 - accuracy: 0.9930 - val_loss: 0.0432 - val_accuracy: 0.9840\n",
      "Epoch 29/35\n",
      "10208/10208 [==============================] - 1s 51us/step - loss: 0.0184 - accuracy: 0.9919 - val_loss: 0.0364 - val_accuracy: 0.9865\n",
      "Epoch 30/35\n",
      "10208/10208 [==============================] - 1s 51us/step - loss: 0.0180 - accuracy: 0.9927 - val_loss: 0.0385 - val_accuracy: 0.9854\n",
      "Epoch 31/35\n",
      "10208/10208 [==============================] - 1s 54us/step - loss: 0.0179 - accuracy: 0.9929 - val_loss: 0.0375 - val_accuracy: 0.9858\n",
      "Epoch 32/35\n",
      "10208/10208 [==============================] - 1s 50us/step - loss: 0.0170 - accuracy: 0.9930 - val_loss: 0.0377 - val_accuracy: 0.9867\n",
      "Epoch 33/35\n",
      "10208/10208 [==============================] - 1s 53us/step - loss: 0.0176 - accuracy: 0.9923 - val_loss: 0.0392 - val_accuracy: 0.9856\n",
      "Epoch 34/35\n",
      "10208/10208 [==============================] - 1s 50us/step - loss: 0.0167 - accuracy: 0.9935 - val_loss: 0.0400 - val_accuracy: 0.9849\n",
      "Epoch 35/35\n",
      "10208/10208 [==============================] - 1s 53us/step - loss: 0.0172 - accuracy: 0.9934 - val_loss: 0.0390 - val_accuracy: 0.9849\n"
     ]
    }
   ],
   "source": [
    "history = model.fit(X_train, y_train, validation_data=(X_test, y_test), epochs=35, batch_size=64)"
   ]
  },
  {
   "cell_type": "code",
   "execution_count": 40,
   "metadata": {},
   "outputs": [
    {
     "name": "stdout",
     "output_type": "stream",
     "text": [
      "Evaluate on test data\n",
      "4375/4375 [==============================] - 0s 17us/step\n",
      "test loss, test acc: [0.038976730582543785, 0.9849143028259277]\n"
     ]
    }
   ],
   "source": [
    "print(\"Evaluate on test data\")\n",
    "results = model.evaluate(X_test, y_test, batch_size=128)\n",
    "print(\"test loss, test acc:\", results)"
   ]
  },
  {
   "cell_type": "code",
   "execution_count": 54,
   "metadata": {},
   "outputs": [
    {
     "name": "stdout",
     "output_type": "stream",
     "text": [
      "Generate predictions for 3 samples\n",
      "predictions shape: (13, 1)\n"
     ]
    }
   ],
   "source": [
    "print(\"Generate predictions for 3 samples\")\n",
    "predictions = model.predict(X_test[10:23])\n",
    "print(\"predictions shape:\", predictions.shape)"
   ]
  },
  {
   "cell_type": "code",
   "execution_count": 55,
   "metadata": {},
   "outputs": [
    {
     "data": {
      "text/plain": [
       "array([[0.0000000e+00],\n",
       "       [0.0000000e+00],\n",
       "       [0.0000000e+00],\n",
       "       [0.0000000e+00],\n",
       "       [0.0000000e+00],\n",
       "       [3.0398369e-06],\n",
       "       [0.0000000e+00],\n",
       "       [0.0000000e+00],\n",
       "       [0.0000000e+00],\n",
       "       [2.8845668e-04],\n",
       "       [1.5175670e-02],\n",
       "       [0.0000000e+00],\n",
       "       [0.0000000e+00]], dtype=float32)"
      ]
     },
     "execution_count": 55,
     "metadata": {},
     "output_type": "execute_result"
    }
   ],
   "source": [
    "predictions"
   ]
  },
  {
   "cell_type": "code",
   "execution_count": null,
   "metadata": {},
   "outputs": [],
   "source": []
  }
 ],
 "metadata": {
  "kernelspec": {
   "display_name": "Python 3",
   "language": "python",
   "name": "python3"
  },
  "language_info": {
   "codemirror_mode": {
    "name": "ipython",
    "version": 3
   },
   "file_extension": ".py",
   "mimetype": "text/x-python",
   "name": "python",
   "nbconvert_exporter": "python",
   "pygments_lexer": "ipython3",
   "version": "3.7.6"
  }
 },
 "nbformat": 4,
 "nbformat_minor": 4
}
