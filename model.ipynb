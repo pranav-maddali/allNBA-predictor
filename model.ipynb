{
 "cells": [
  {
   "cell_type": "code",
   "execution_count": 1,
   "metadata": {},
   "outputs": [
    {
     "name": "stderr",
     "output_type": "stream",
     "text": [
      "Using TensorFlow backend.\n"
     ]
    }
   ],
   "source": [
    "import pickle\n",
    "import numpy as np\n",
    "\n",
    "import keras\n",
    "from keras.models import Sequential\n",
    "from keras.layers import Dense\n",
    "from sklearn.metrics import accuracy_score\n",
    "\n",
    "from matplotlib import pyplot"
   ]
  },
  {
   "cell_type": "code",
   "execution_count": 2,
   "metadata": {},
   "outputs": [
    {
     "name": "stdout",
     "output_type": "stream",
     "text": [
      "Training Sizes: (10208, 28) and (10208,)\n",
      "Testing Sizes: (4375, 28) and (4375,)\n"
     ]
    }
   ],
   "source": [
    "with open('/Users/pranav/nba_allNBA_predictor/nn_train_data.pkl', 'rb') as f:\n",
    "    X_train, y_train = pickle.load(f, encoding='latin1')\n",
    "with open('/Users/pranav/nba_allNBA_predictor/nn_test_data.pkl', 'rb') as f:\n",
    "    X_test, y_test = pickle.load(f, encoding='latin1')\n",
    "\n",
    "print('Training Sizes:', X_train.shape,'and', y_train.shape)\n",
    "print('Testing Sizes:', X_test.shape, 'and', y_test.shape)"
   ]
  },
  {
   "cell_type": "code",
   "execution_count": 6,
   "metadata": {},
   "outputs": [
    {
     "name": "stdout",
     "output_type": "stream",
     "text": [
      "Model: \"sequential_2\"\n",
      "_________________________________________________________________\n",
      "Layer (type)                 Output Shape              Param #   \n",
      "=================================================================\n",
      "dense_5 (Dense)              (None, 12)                348       \n",
      "_________________________________________________________________\n",
      "dense_6 (Dense)              (None, 8)                 104       \n",
      "_________________________________________________________________\n",
      "dense_7 (Dense)              (None, 4)                 36        \n",
      "_________________________________________________________________\n",
      "dense_8 (Dense)              (None, 1)                 5         \n",
      "=================================================================\n",
      "Total params: 493\n",
      "Trainable params: 493\n",
      "Non-trainable params: 0\n",
      "_________________________________________________________________\n"
     ]
    }
   ],
   "source": [
    "model = Sequential()\n",
    "\n",
    "model.add(Dense(12, input_dim=28, activation='relu'))\n",
    "\n",
    "model.add(Dense(8, activation='relu'))\n",
    "\n",
    "model.add(Dense(4, activation='relu'))\n",
    "\n",
    "model.add(Dense(1, activation='sigmoid'))\n",
    "\n",
    "model.summary()"
   ]
  },
  {
   "cell_type": "code",
   "execution_count": 7,
   "metadata": {},
   "outputs": [],
   "source": [
    "model.compile(loss='binary_crossentropy', optimizer='adam', metrics=['accuracy'])"
   ]
  },
  {
   "cell_type": "code",
   "execution_count": 8,
   "metadata": {},
   "outputs": [
    {
     "name": "stdout",
     "output_type": "stream",
     "text": [
      "Epoch 1/35\n",
      "10208/10208 [==============================] - 2s 187us/step - loss: 0.2248 - accuracy: 0.9215\n",
      "Epoch 2/35\n",
      "10208/10208 [==============================] - 1s 100us/step - loss: 0.0617 - accuracy: 0.9791\n",
      "Epoch 3/35\n",
      "10208/10208 [==============================] - 1s 104us/step - loss: 0.0492 - accuracy: 0.9816\n",
      "Epoch 4/35\n",
      "10208/10208 [==============================] - 1s 102us/step - loss: 0.0447 - accuracy: 0.9832\n",
      "Epoch 5/35\n",
      "10208/10208 [==============================] - 1s 106us/step - loss: 0.0407 - accuracy: 0.9839\n",
      "Epoch 6/35\n",
      "10208/10208 [==============================] - 1s 102us/step - loss: 0.0398 - accuracy: 0.9847\n",
      "Epoch 7/35\n",
      "10208/10208 [==============================] - 1s 107us/step - loss: 0.0376 - accuracy: 0.9859\n",
      "Epoch 8/35\n",
      "10208/10208 [==============================] - 1s 103us/step - loss: 0.0366 - accuracy: 0.9862\n",
      "Epoch 9/35\n",
      "10208/10208 [==============================] - 1s 102us/step - loss: 0.0355 - accuracy: 0.9858\n",
      "Epoch 10/35\n",
      "10208/10208 [==============================] - 1s 104us/step - loss: 0.0353 - accuracy: 0.9858\n",
      "Epoch 11/35\n",
      "10208/10208 [==============================] - 1s 105us/step - loss: 0.0345 - accuracy: 0.9850\n",
      "Epoch 12/35\n",
      "10208/10208 [==============================] - 1s 107us/step - loss: 0.0338 - accuracy: 0.9861\n",
      "Epoch 13/35\n",
      "10208/10208 [==============================] - 1s 103us/step - loss: 0.0331 - accuracy: 0.9872\n",
      "Epoch 14/35\n",
      "10208/10208 [==============================] - 1s 105us/step - loss: 0.0328 - accuracy: 0.9863\n",
      "Epoch 15/35\n",
      "10208/10208 [==============================] - 1s 106us/step - loss: 0.0318 - accuracy: 0.9877\n",
      "Epoch 16/35\n",
      "10208/10208 [==============================] - 1s 106us/step - loss: 0.0316 - accuracy: 0.9867\n",
      "Epoch 17/35\n",
      "10208/10208 [==============================] - 1s 116us/step - loss: 0.0314 - accuracy: 0.9873\n",
      "Epoch 18/35\n",
      "10208/10208 [==============================] - 1s 105us/step - loss: 0.0302 - accuracy: 0.9874\n",
      "Epoch 19/35\n",
      "10208/10208 [==============================] - 1s 107us/step - loss: 0.0309 - accuracy: 0.9877\n",
      "Epoch 20/35\n",
      "10208/10208 [==============================] - 1s 106us/step - loss: 0.0301 - accuracy: 0.9882\n",
      "Epoch 21/35\n",
      "10208/10208 [==============================] - 1s 106us/step - loss: 0.0303 - accuracy: 0.9878\n",
      "Epoch 22/35\n",
      "10208/10208 [==============================] - 1s 108us/step - loss: 0.0304 - accuracy: 0.9880\n",
      "Epoch 23/35\n",
      "10208/10208 [==============================] - 1s 113us/step - loss: 0.0285 - accuracy: 0.9879\n",
      "Epoch 24/35\n",
      "10208/10208 [==============================] - 1s 118us/step - loss: 0.0297 - accuracy: 0.9878\n",
      "Epoch 25/35\n",
      "10208/10208 [==============================] - 1s 112us/step - loss: 0.0295 - accuracy: 0.9878\n",
      "Epoch 26/35\n",
      "10208/10208 [==============================] - 1s 116us/step - loss: 0.0287 - accuracy: 0.9876\n",
      "Epoch 27/35\n",
      "10208/10208 [==============================] - 1s 117us/step - loss: 0.0284 - accuracy: 0.9883\n",
      "Epoch 28/35\n",
      "10208/10208 [==============================] - 1s 125us/step - loss: 0.0291 - accuracy: 0.9879\n",
      "Epoch 29/35\n",
      "10208/10208 [==============================] - 1s 114us/step - loss: 0.0287 - accuracy: 0.9881\n",
      "Epoch 30/35\n",
      "10208/10208 [==============================] - 1s 118us/step - loss: 0.0283 - accuracy: 0.9880\n",
      "Epoch 31/35\n",
      "10208/10208 [==============================] - 1s 128us/step - loss: 0.0280 - accuracy: 0.9886\n",
      "Epoch 32/35\n",
      "10208/10208 [==============================] - 1s 121us/step - loss: 0.0286 - accuracy: 0.9876\n",
      "Epoch 33/35\n",
      "10208/10208 [==============================] - 1s 120us/step - loss: 0.0289 - accuracy: 0.9882\n",
      "Epoch 34/35\n",
      "10208/10208 [==============================] - 1s 110us/step - loss: 0.0278 - accuracy: 0.9890\n",
      "Epoch 35/35\n",
      "10208/10208 [==============================] - 1s 117us/step - loss: 0.0275 - accuracy: 0.9891\n"
     ]
    }
   ],
   "source": [
    "history = model.fit(X_train, y_train, epochs=35, batch_size=24)"
   ]
  },
  {
   "cell_type": "code",
   "execution_count": 9,
   "metadata": {},
   "outputs": [
    {
     "name": "stdout",
     "output_type": "stream",
     "text": [
      "Accuracy is: 100.0\n"
     ]
    }
   ],
   "source": [
    "y_pred = model.predict(X_test)\n",
    "predictions = list()\n",
    "for i in range(len(y_pred)):\n",
    "    predictions.append(np.argmax(y_pred[i]))\n",
    "\n",
    "tests = list()\n",
    "for i in range(len(y_test)):\n",
    "    tests.append(np.argmax(y_test[i]))\n",
    "    \n",
    "accuracy = accuracy_score(predictions,tests)\n",
    "print('Accuracy is:', accuracy*100)"
   ]
  },
  {
   "cell_type": "code",
   "execution_count": 10,
   "metadata": {},
   "outputs": [
    {
     "name": "stdout",
     "output_type": "stream",
     "text": [
      "Train on 10208 samples, validate on 4375 samples\n",
      "Epoch 1/35\n",
      "10208/10208 [==============================] - 1s 137us/step - loss: 0.0275 - accuracy: 0.9884 - val_loss: 0.0284 - val_accuracy: 0.9879\n",
      "Epoch 2/35\n",
      "10208/10208 [==============================] - 1s 129us/step - loss: 0.0273 - accuracy: 0.9889 - val_loss: 0.0302 - val_accuracy: 0.9881\n",
      "Epoch 3/35\n",
      "10208/10208 [==============================] - 1s 121us/step - loss: 0.0273 - accuracy: 0.9886 - val_loss: 0.0296 - val_accuracy: 0.9886\n",
      "Epoch 4/35\n",
      "10208/10208 [==============================] - 1s 120us/step - loss: 0.0272 - accuracy: 0.9884 - val_loss: 0.0315 - val_accuracy: 0.9874\n",
      "Epoch 5/35\n",
      "10208/10208 [==============================] - 1s 126us/step - loss: 0.0271 - accuracy: 0.9897 - val_loss: 0.0297 - val_accuracy: 0.9881\n",
      "Epoch 6/35\n",
      "10208/10208 [==============================] - 1s 120us/step - loss: 0.0273 - accuracy: 0.9880 - val_loss: 0.0296 - val_accuracy: 0.9879\n",
      "Epoch 7/35\n",
      "10208/10208 [==============================] - 1s 120us/step - loss: 0.0270 - accuracy: 0.9885 - val_loss: 0.0307 - val_accuracy: 0.9886\n",
      "Epoch 8/35\n",
      "10208/10208 [==============================] - 1s 121us/step - loss: 0.0273 - accuracy: 0.9888 - val_loss: 0.0299 - val_accuracy: 0.9879\n",
      "Epoch 9/35\n",
      "10208/10208 [==============================] - 1s 121us/step - loss: 0.0259 - accuracy: 0.9891 - val_loss: 0.0295 - val_accuracy: 0.9877\n",
      "Epoch 10/35\n",
      "10208/10208 [==============================] - 1s 126us/step - loss: 0.0274 - accuracy: 0.9892 - val_loss: 0.0302 - val_accuracy: 0.9877\n",
      "Epoch 11/35\n",
      "10208/10208 [==============================] - 1s 125us/step - loss: 0.0269 - accuracy: 0.9883 - val_loss: 0.0308 - val_accuracy: 0.9886\n",
      "Epoch 12/35\n",
      "10208/10208 [==============================] - 1s 120us/step - loss: 0.0262 - accuracy: 0.9891 - val_loss: 0.0295 - val_accuracy: 0.9890\n",
      "Epoch 13/35\n",
      "10208/10208 [==============================] - 1s 120us/step - loss: 0.0266 - accuracy: 0.9885 - val_loss: 0.0332 - val_accuracy: 0.9865\n",
      "Epoch 14/35\n",
      "10208/10208 [==============================] - 1s 125us/step - loss: 0.0258 - accuracy: 0.9890 - val_loss: 0.0295 - val_accuracy: 0.9877\n",
      "Epoch 15/35\n",
      "10208/10208 [==============================] - 1s 124us/step - loss: 0.0263 - accuracy: 0.9886 - val_loss: 0.0306 - val_accuracy: 0.9870\n",
      "Epoch 16/35\n",
      "10208/10208 [==============================] - 1s 121us/step - loss: 0.0261 - accuracy: 0.9893 - val_loss: 0.0313 - val_accuracy: 0.9888\n",
      "Epoch 17/35\n",
      "10208/10208 [==============================] - 1s 121us/step - loss: 0.0254 - accuracy: 0.9898 - val_loss: 0.0297 - val_accuracy: 0.9886\n",
      "Epoch 18/35\n",
      "10208/10208 [==============================] - 1s 122us/step - loss: 0.0254 - accuracy: 0.9892 - val_loss: 0.0308 - val_accuracy: 0.9879\n",
      "Epoch 19/35\n",
      "10208/10208 [==============================] - 1s 125us/step - loss: 0.0255 - accuracy: 0.9893 - val_loss: 0.0296 - val_accuracy: 0.9879\n",
      "Epoch 20/35\n",
      "10208/10208 [==============================] - 1s 124us/step - loss: 0.0244 - accuracy: 0.9896 - val_loss: 0.0323 - val_accuracy: 0.9888\n",
      "Epoch 21/35\n",
      "10208/10208 [==============================] - 1s 128us/step - loss: 0.0250 - accuracy: 0.9896 - val_loss: 0.0311 - val_accuracy: 0.9872\n",
      "Epoch 22/35\n",
      "10208/10208 [==============================] - 1s 122us/step - loss: 0.0251 - accuracy: 0.9896 - val_loss: 0.0304 - val_accuracy: 0.9888\n",
      "Epoch 23/35\n",
      "10208/10208 [==============================] - 1s 126us/step - loss: 0.0250 - accuracy: 0.9897 - val_loss: 0.0330 - val_accuracy: 0.9877\n",
      "Epoch 24/35\n",
      "10208/10208 [==============================] - 1s 123us/step - loss: 0.0252 - accuracy: 0.9889 - val_loss: 0.0308 - val_accuracy: 0.9881\n",
      "Epoch 25/35\n",
      "10208/10208 [==============================] - 1s 123us/step - loss: 0.0249 - accuracy: 0.9896 - val_loss: 0.0304 - val_accuracy: 0.9879\n",
      "Epoch 26/35\n",
      "10208/10208 [==============================] - 1s 123us/step - loss: 0.0237 - accuracy: 0.9904 - val_loss: 0.0308 - val_accuracy: 0.9888\n",
      "Epoch 27/35\n",
      "10208/10208 [==============================] - 1s 125us/step - loss: 0.0250 - accuracy: 0.9892 - val_loss: 0.0325 - val_accuracy: 0.9883\n",
      "Epoch 28/35\n",
      "10208/10208 [==============================] - 1s 124us/step - loss: 0.0241 - accuracy: 0.9892 - val_loss: 0.0337 - val_accuracy: 0.9879\n",
      "Epoch 29/35\n",
      "10208/10208 [==============================] - 1s 123us/step - loss: 0.0251 - accuracy: 0.9899 - val_loss: 0.0305 - val_accuracy: 0.9886\n",
      "Epoch 30/35\n",
      "10208/10208 [==============================] - 1s 128us/step - loss: 0.0241 - accuracy: 0.9891 - val_loss: 0.0351 - val_accuracy: 0.9858\n",
      "Epoch 31/35\n",
      "10208/10208 [==============================] - 1s 123us/step - loss: 0.0237 - accuracy: 0.9893 - val_loss: 0.0319 - val_accuracy: 0.9877\n",
      "Epoch 32/35\n",
      "10208/10208 [==============================] - 1s 122us/step - loss: 0.0238 - accuracy: 0.9900 - val_loss: 0.0324 - val_accuracy: 0.9881\n",
      "Epoch 33/35\n",
      "10208/10208 [==============================] - 1s 129us/step - loss: 0.0235 - accuracy: 0.9900 - val_loss: 0.0319 - val_accuracy: 0.9888\n",
      "Epoch 34/35\n",
      "10208/10208 [==============================] - 1s 124us/step - loss: 0.0242 - accuracy: 0.9893 - val_loss: 0.0310 - val_accuracy: 0.9883\n",
      "Epoch 35/35\n",
      "10208/10208 [==============================] - 1s 128us/step - loss: 0.0225 - accuracy: 0.9912 - val_loss: 0.0395 - val_accuracy: 0.9829\n"
     ]
    }
   ],
   "source": [
    "history = model.fit(X_train, y_train, validation_data=(X_test, y_test), epochs=35, batch_size=24)"
   ]
  },
  {
   "cell_type": "code",
   "execution_count": 11,
   "metadata": {},
   "outputs": [
    {
     "name": "stdout",
     "output_type": "stream",
     "text": [
      "Evaluate on test data\n",
      "4375/4375 [==============================] - 0s 20us/step\n",
      "test loss, test acc: [0.03945957997526441, 0.9828571677207947]\n"
     ]
    }
   ],
   "source": [
    "print(\"Evaluate on test data\")\n",
    "results = model.evaluate(X_test, y_test, batch_size=128)\n",
    "print(\"test loss, test acc:\", results)"
   ]
  },
  {
   "cell_type": "code",
   "execution_count": 12,
   "metadata": {},
   "outputs": [
    {
     "name": "stdout",
     "output_type": "stream",
     "text": [
      "Generate predictions for 3 samples\n",
      "predictions shape: (13, 1)\n"
     ]
    }
   ],
   "source": [
    "print(\"Generate predictions for 3 samples\")\n",
    "predictions = model.predict(X_test[10:23])\n",
    "print(\"predictions shape:\", predictions.shape)"
   ]
  }
 ],
 "metadata": {
  "kernelspec": {
   "display_name": "Python 3",
   "language": "python",
   "name": "python3"
  },
  "language_info": {
   "codemirror_mode": {
    "name": "ipython",
    "version": 3
   },
   "file_extension": ".py",
   "mimetype": "text/x-python",
   "name": "python",
   "nbconvert_exporter": "python",
   "pygments_lexer": "ipython3",
   "version": "3.7.6"
  }
 },
 "nbformat": 4,
 "nbformat_minor": 4
}
