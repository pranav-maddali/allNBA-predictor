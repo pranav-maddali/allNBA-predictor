{
 "cells": [
  {
   "cell_type": "code",
   "execution_count": 1,
   "metadata": {},
   "outputs": [],
   "source": [
    "import pandas as pd\n",
    "import numpy as np\n",
    "\n",
    "from bs4 import BeautifulSoup\n",
    "import requests\n",
    "\n",
    "from collections import defaultdict\n",
    "import re\n",
    "\n",
    "seasons = np.array(range(1991, 2020))\n",
    "base = \"https://www.basketball-reference.com/leagues/NBA_{}_standings.html\"\n",
    "webpage = 'https://en.wikipedia.org/wiki/Wikipedia:WikiProject_National_Basketball_Association/National_Basketball_Association_team_abbreviations'\n",
    "season_stats = '/Users/pranav/nba_allNBA_predictor/season_statistics/{}_stats.csv'"
   ]
  },
  {
   "cell_type": "code",
   "execution_count": 2,
   "metadata": {},
   "outputs": [],
   "source": [
    "def getDF(year):\n",
    "    url = base.format(year)\n",
    "    DFs = pd.read_html(url)\n",
    "    for df in DFs:\n",
    "        df.rename(columns={\"Eastern Conference\" : \"Team\", \"Western Conference\" : \"Team\"}, inplace=True)\n",
    "    df = pd.concat(DFs)\n",
    "    df = df[~df.Team.str.contains('Division')]\n",
    "    df['Team'] = df['Team'].str.replace('[^a-zA-Z0-7/ ]', '')\n",
    "    df = df.drop_duplicates(subset=\"Team\", keep=\"first\")\n",
    "    df.index = np.array(range(1, len(df.index)+1))\n",
    "    return df"
   ]
  },
  {
   "cell_type": "code",
   "execution_count": 4,
   "metadata": {},
   "outputs": [],
   "source": [
    "def getAbbreviations(url):\n",
    "    d = {}\n",
    "    \n",
    "    html_content = requests.get(url).text\n",
    "    soup = BeautifulSoup(html_content, \"lxml\")\n",
    "    \n",
    "    abb = soup.find(\"table\")\n",
    "    \n",
    "    contents = abb.tbody.find_all(\"td\")[2:]\n",
    "    contents = [re.sub(\"<[^>]*>|\\n\", \"\", str(content)) for content in contents]\n",
    "    \n",
    "    for abb, team in zip(contents[::2], contents[1::2]):\n",
    "        d[team] = abb\n",
    "        \n",
    "    return d"
   ]
  },
  {
   "cell_type": "code",
   "execution_count": 5,
   "metadata": {},
   "outputs": [],
   "source": [
    "d = getAbbreviations(webpage)"
   ]
  },
  {
   "cell_type": "code",
   "execution_count": 6,
   "metadata": {},
   "outputs": [],
   "source": [
    "def replaceNames(dataframe, d):\n",
    "    teams = set(d.keys())\n",
    "    ###abb = set(d.values())\n",
    "    for season in seasons:\n",
    "        df = pd.read_csv(season_stats.format(season))\n",
    "        df['Tm'] = df['Tm'].str.replace('CHH', 'CHA')\n",
    "        df['Tm'] = df['Tm'].str.replace('CHO', 'CHA')\n",
    "        df['Tm'] = df['Tm'].str.replace('PHO', 'PHX')\n",
    "        df['Tm'] = df['Tm'].str.replace('BRK', 'BKN')\n",
    "        teams.update(set(dataframe.Team))\n",
    "        ###abb.update(set(df.Tm))\n",
    "        \n",
    "    for team in teams:\n",
    "        d[team] = d.get(team, '')\n",
    "\n",
    "    d['New Jersey Nets'] = \"NJN\"\n",
    "    d['Seattle SuperSonics'] = \"SEA\"\n",
    "    d['Vancouver Grizzlies'] = \"VAN\"\n",
    "    d['Charlotte Bobcats'] = \"CHA\"\n",
    "    d['Washington Bullets'] = \"WSB\"\n",
    "    d['New Orleans/Oklahoma City Hornets'] = \"NOK\"\n",
    "    d['New Orleans Hornets'] = \"NOH\"\n",
    "    \n",
    "    dataframe['Team'] = dataframe['Team'].replace(d)\n",
    "    dataframe['W/L%'] = [round(x, 3) for x in dataframe['W/L%'].astype(float)]\n",
    "    \n",
    "    return dataframe"
   ]
  },
  {
   "cell_type": "code",
   "execution_count": 7,
   "metadata": {},
   "outputs": [],
   "source": [
    "def createCSVs():\n",
    "    d = getAbbreviations(webpage)\n",
    "    savePath = '/Users/pranav/nba_allNBA_predictor/team_records/'\n",
    "    for season in seasons:\n",
    "        df = getDF(season)\n",
    "        df = replaceNames(df, d)\n",
    "        df.to_csv(savePath + str(season) + '_teamRecords.csv', index=False)"
   ]
  },
  {
   "cell_type": "code",
   "execution_count": 8,
   "metadata": {},
   "outputs": [],
   "source": [
    "createCSVs()"
   ]
  },
  {
   "cell_type": "code",
   "execution_count": null,
   "metadata": {},
   "outputs": [],
   "source": []
  }
 ],
 "metadata": {
  "kernelspec": {
   "display_name": "Python 3",
   "language": "python",
   "name": "python3"
  },
  "language_info": {
   "codemirror_mode": {
    "name": "ipython",
    "version": 3
   },
   "file_extension": ".py",
   "mimetype": "text/x-python",
   "name": "python",
   "nbconvert_exporter": "python",
   "pygments_lexer": "ipython3",
   "version": "3.7.6"
  }
 },
 "nbformat": 4,
 "nbformat_minor": 4
}
