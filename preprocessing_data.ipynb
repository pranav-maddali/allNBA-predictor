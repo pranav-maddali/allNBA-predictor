{
 "cells": [
  {
   "cell_type": "code",
   "execution_count": 1,
   "metadata": {},
   "outputs": [],
   "source": [
    "import pandas as pd\n",
    "import numpy as np\n",
    "\n",
    "from sklearn.preprocessing import StandardScaler\n",
    "from sklearn.model_selection import train_test_split\n",
    "\n",
    "import pickle\n",
    "\n",
    "final_data = '/Users/pranav/nba_allNBA_predictor/final_data.csv'"
   ]
  },
  {
   "cell_type": "code",
   "execution_count": 2,
   "metadata": {},
   "outputs": [],
   "source": [
    "def load_dataset(path):\n",
    "    df = pd.read_csv(path)\n",
    "    \n",
    "    to_drop = ['Player', 'Pos', 'Age', 'Tm']\n",
    "    df.drop(to_drop, axis=1, inplace=True)\n",
    "    \n",
    "    dataset = df.values\n",
    "    X = dataset[:, :-1]\n",
    "    y = dataset[:, -1]\n",
    "    \n",
    "    X = X.astype(str)\n",
    "    \n",
    "    X = prepare_input(X)\n",
    "    y = prepare_target(y)\n",
    "    \n",
    "    return X, y\n",
    "\n",
    "def prepare_input(X):\n",
    "    sc = StandardScaler()\n",
    "    X = sc.fit_transform(X)\n",
    "    \n",
    "    return X\n",
    "\n",
    "def prepare_target(y):\n",
    "    d = {True: 1, False: 0}\n",
    "    y = np.array(y)\n",
    "    y = np.vectorize(d.get)(y)\n",
    "    return y\n",
    "\n",
    "def preprocess(data_path):\n",
    "    X, y = load_dataset(data_path)\n",
    "    \n",
    "    X_train, X_test, y_train, y_test = train_test_split(X, y, test_size=0.3, random_state=1)\n",
    "    print('Training Sizes:', X_train.shape,'and', y_train.shape)\n",
    "    print('Testing Sizes:', X_test.shape, 'and', y_test.shape)\n",
    "    \n",
    "    return X_train, X_test, y_train, y_test"
   ]
  },
  {
   "cell_type": "code",
   "execution_count": 3,
   "metadata": {},
   "outputs": [
    {
     "name": "stdout",
     "output_type": "stream",
     "text": [
      "Training Sizes: (10208, 28) and (10208,)\n",
      "Testing Sizes: (4375, 28) and (4375,)\n"
     ]
    }
   ],
   "source": [
    "X_train, X_test, y_train, y_test = preprocess(final_data)"
   ]
  },
  {
   "cell_type": "code",
   "execution_count": 4,
   "metadata": {},
   "outputs": [],
   "source": [
    "with open('/Users/pranav/nba_allNBA_predictor/nn_train_data.pkl', 'wb') as f:\n",
    "    pickle.dump((X_train, y_train), f)\n",
    "with open('/Users/pranav/nba_allNBA_predictor/nn_test_data.pkl', 'wb') as f:\n",
    "    pickle.dump((X_test, y_test), f)"
   ]
  },
  {
   "cell_type": "code",
   "execution_count": null,
   "metadata": {},
   "outputs": [],
   "source": []
  }
 ],
 "metadata": {
  "kernelspec": {
   "display_name": "Python 3",
   "language": "python",
   "name": "python3"
  },
  "language_info": {
   "codemirror_mode": {
    "name": "ipython",
    "version": 3
   },
   "file_extension": ".py",
   "mimetype": "text/x-python",
   "name": "python",
   "nbconvert_exporter": "python",
   "pygments_lexer": "ipython3",
   "version": "3.7.6"
  }
 },
 "nbformat": 4,
 "nbformat_minor": 4
}
